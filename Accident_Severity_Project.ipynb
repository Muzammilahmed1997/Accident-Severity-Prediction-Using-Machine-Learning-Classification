{
 "cells": [
  {
   "cell_type": "markdown",
   "metadata": {},
   "source": [
    "## Accident Severity Prediction"
   ]
  },
  {
   "cell_type": "markdown",
   "metadata": {},
   "source": [
    "Dataset Source : Kaggle\n",
    "Dataset Link: https://www.kaggle.com/datasets/daveianhickey/2000-16-traffic-flow-england-scotland-wales\n",
    "\n",
    "Dataset is too large so we are using data of two years from 2012-14, which contains around 4,64,697 records."
   ]
  },
  {
   "cell_type": "markdown",
   "metadata": {},
   "source": [
    "## Importing Libraries"
   ]
  },
  {
   "cell_type": "code",
   "execution_count": 54,
   "metadata": {},
   "outputs": [],
   "source": [
    "import pandas as pd   \n",
    "import matplotlib.pyplot as plt\n",
    "from sklearn.model_selection import train_test_split\n",
    "\n",
    "import plotly.express as px\n",
    "import time\n",
    "import numpy as np\n",
    "from sklearn.tree import DecisionTreeClassifier\n",
    "from sklearn.ensemble import RandomForestClassifier, GradientBoostingClassifier\n",
    "from sklearn.feature_selection import RFE,SelectFromModel\n",
    "\n",
    "\n",
    "from sklearn.model_selection import train_test_split, cross_val_score\n",
    "from sklearn.metrics import roc_curve, roc_auc_score\n",
    "from sklearn.metrics import confusion_matrix\n",
    "from sklearn.metrics import recall_score\n",
    "from sklearn.metrics import precision_score\n",
    "from sklearn.metrics import classification_report\n",
    "from sklearn.feature_selection import mutual_info_classif\n",
    "from sklearn.metrics import ConfusionMatrixDisplay\n",
    "from sklearn.model_selection import cross_val_predict\n",
    "from sklearn.metrics import confusion_matrix\n",
    "\n",
    "from sklearn.metrics import accuracy_score\n",
    "from sklearn.model_selection import KFold, cross_val_score\n",
    "\n",
    "import warnings\n",
    "warnings.filterwarnings(\"ignore\") "
   ]
  },
  {
   "cell_type": "markdown",
   "metadata": {},
   "source": [
    "### Loading Dataset"
   ]
  },
  {
   "cell_type": "code",
   "execution_count": 55,
   "metadata": {},
   "outputs": [
    {
     "data": {
      "text/plain": [
       "(464697, 33)"
      ]
     },
     "execution_count": 55,
     "metadata": {},
     "output_type": "execute_result"
    }
   ],
   "source": [
    "data = pd.read_csv(\"E:/accidents_2012_to_2014.csv\")\n",
    "data.shape"
   ]
  },
  {
   "cell_type": "markdown",
   "metadata": {},
   "source": [
    "## Data Pre Processing"
   ]
  },
  {
   "cell_type": "code",
   "execution_count": 56,
   "metadata": {},
   "outputs": [
    {
     "name": "stdout",
     "output_type": "stream",
     "text": [
      "Length of Dataset:  464697\n",
      "Number of Attributes:  33\n"
     ]
    }
   ],
   "source": [
    "print('Length of Dataset: ', data.shape[0])\n",
    "print('Number of Attributes: ', data.shape[1])"
   ]
  },
  {
   "cell_type": "markdown",
   "metadata": {},
   "source": [
    "Checking Null Values"
   ]
  },
  {
   "cell_type": "code",
   "execution_count": 57,
   "metadata": {},
   "outputs": [
    {
     "data": {
      "text/plain": [
       "Accident_Index                                      0\n",
       "Location_Easting_OSGR                               0\n",
       "Location_Northing_OSGR                              0\n",
       "Longitude                                           0\n",
       "Latitude                                            0\n",
       "Police_Force                                        0\n",
       "Accident_Severity                                   0\n",
       "Number_of_Vehicles                                  0\n",
       "Number_of_Casualties                                0\n",
       "Date                                                0\n",
       "Day_of_Week                                         0\n",
       "Time                                               13\n",
       "Local_Authority_(District)                          0\n",
       "Local_Authority_(Highway)                           0\n",
       "1st_Road_Class                                      0\n",
       "1st_Road_Number                                     0\n",
       "Road_Type                                           0\n",
       "Speed_limit                                         0\n",
       "Junction_Detail                                464697\n",
       "Junction_Control                               178610\n",
       "2nd_Road_Class                                      0\n",
       "2nd_Road_Number                                     0\n",
       "Pedestrian_Crossing-Human_Control                   0\n",
       "Pedestrian_Crossing-Physical_Facilities             0\n",
       "Light_Conditions                                    0\n",
       "Weather_Conditions                                  0\n",
       "Road_Surface_Conditions                           755\n",
       "Special_Conditions_at_Site                          2\n",
       "Carriageway_Hazards                                 3\n",
       "Urban_or_Rural_Area                                 0\n",
       "Did_Police_Officer_Attend_Scene_of_Accident         2\n",
       "LSOA_of_Accident_Location                       28718\n",
       "Year                                                0\n",
       "dtype: int64"
      ]
     },
     "execution_count": 57,
     "metadata": {},
     "output_type": "execute_result"
    }
   ],
   "source": [
    "data.isnull().sum()"
   ]
  },
  {
   "cell_type": "markdown",
   "metadata": {},
   "source": [
    "Dropping Null value Columns"
   ]
  },
  {
   "cell_type": "code",
   "execution_count": 58,
   "metadata": {},
   "outputs": [],
   "source": [
    "data.drop('Junction_Detail',axis=1,inplace=True)\n",
    "data.drop('Junction_Control',axis=1,inplace=True)\n",
    "filtered_data = data.dropna()"
   ]
  },
  {
   "cell_type": "code",
   "execution_count": 59,
   "metadata": {},
   "outputs": [
    {
     "data": {
      "text/plain": [
       "(435236, 31)"
      ]
     },
     "execution_count": 59,
     "metadata": {},
     "output_type": "execute_result"
    }
   ],
   "source": [
    "filtered_data.shape"
   ]
  },
  {
   "cell_type": "markdown",
   "metadata": {},
   "source": [
    "Dropping Irrelavent Features."
   ]
  },
  {
   "cell_type": "code",
   "execution_count": 60,
   "metadata": {},
   "outputs": [],
   "source": [
    "filtered_data.drop('Accident_Index',axis=1,inplace=True)\n",
    "filtered_data.drop('LSOA_of_Accident_Location',axis=1,inplace=True)\n",
    "filtered_data.drop('Local_Authority_(Highway)',axis=1,inplace=True)\n",
    "filtered_data.drop('Date',axis=1,inplace=True)\n",
    "filtered_data.drop('Time',axis=1,inplace=True)"
   ]
  },
  {
   "cell_type": "code",
   "execution_count": 61,
   "metadata": {},
   "outputs": [
    {
     "data": {
      "text/plain": [
       "(435236, 26)"
      ]
     },
     "execution_count": 61,
     "metadata": {},
     "output_type": "execute_result"
    }
   ],
   "source": [
    "filtered_data.shape"
   ]
  },
  {
   "cell_type": "markdown",
   "metadata": {},
   "source": [
    "### One Hot Encoding"
   ]
  },
  {
   "cell_type": "markdown",
   "metadata": {},
   "source": [
    "Converting Categorical data into Numbers"
   ]
  },
  {
   "cell_type": "code",
   "execution_count": 62,
   "metadata": {},
   "outputs": [
    {
     "data": {
      "text/plain": [
       "Location_Easting_OSGR                                            int64\n",
       "Location_Northing_OSGR                                           int64\n",
       "Longitude                                                      float64\n",
       "Latitude                                                       float64\n",
       "Police_Force                                                     int64\n",
       "                                                                ...   \n",
       "Carriageway_Hazards_None                                         uint8\n",
       "Carriageway_Hazards_Other object in carriageway                  uint8\n",
       "Carriageway_Hazards_Pedestrian in carriageway (not injured)      uint8\n",
       "Did_Police_Officer_Attend_Scene_of_Accident_No                   uint8\n",
       "Did_Police_Officer_Attend_Scene_of_Accident_Yes                  uint8\n",
       "Length: 67, dtype: object"
      ]
     },
     "execution_count": 62,
     "metadata": {},
     "output_type": "execute_result"
    }
   ],
   "source": [
    "df_onehot = pd.get_dummies(filtered_data)\n",
    "df_onehot.dtypes"
   ]
  },
  {
   "cell_type": "markdown",
   "metadata": {},
   "source": [
    "### Train Test Split"
   ]
  },
  {
   "cell_type": "code",
   "execution_count": 63,
   "metadata": {},
   "outputs": [],
   "source": [
    "X = df_onehot.loc[:, df_onehot.columns != 'Accident_Severity']\n",
    "y = df_onehot[['Accident_Severity']]"
   ]
  },
  {
   "cell_type": "code",
   "execution_count": 64,
   "metadata": {},
   "outputs": [
    {
     "name": "stdout",
     "output_type": "stream",
     "text": [
      "(304665, 66)\n",
      "(304665, 1)\n",
      "(130571, 66)\n",
      "(130571, 1)\n"
     ]
    }
   ],
   "source": [
    "trainX, testX, trainy, testy = train_test_split(X, y, test_size=0.3, random_state=2)\n",
    "print(trainX.shape)\n",
    "print(trainy.shape)\n",
    "print(testX.shape)\n",
    "print(testy.shape)"
   ]
  },
  {
   "cell_type": "code",
   "execution_count": 65,
   "metadata": {},
   "outputs": [],
   "source": [
    "trainX.to_csv(\"trainX.csv\")\n",
    "testX.to_csv(\"testX.csv\")\n",
    "testy.to_csv(\"testy.csv\")\n",
    "trainy.to_csv(\"trainy.csv\")\n"
   ]
  },
  {
   "attachments": {},
   "cell_type": "markdown",
   "metadata": {},
   "source": [
    "## Applying Machine Learning Models"
   ]
  },
  {
   "attachments": {},
   "cell_type": "markdown",
   "metadata": {},
   "source": [
    "### Random Forest Classifier"
   ]
  },
  {
   "cell_type": "code",
   "execution_count": 66,
   "metadata": {},
   "outputs": [],
   "source": [
    "rf = RandomForestClassifier(max_depth= 4 ,n_estimators = 120)\n",
    "rf.fit(trainX,trainy.values.ravel())\n",
    "y_pred = rf.predict(testX)\n",
    "y_pred_proba = rf.predict_proba(testX)"
   ]
  },
  {
   "cell_type": "code",
   "execution_count": 67,
   "metadata": {},
   "outputs": [
    {
     "name": "stdout",
     "output_type": "stream",
     "text": [
      "ROC Score: 0.6938906595174897\n",
      "Accuracy of Random Forest: 0.8469597754911132\n"
     ]
    }
   ],
   "source": [
    "print(\"ROC Score:\", roc_auc_score(testy,y_pred_proba,multi_class=\"ovr\"))\n",
    "accuracy = rf.score(trainX, trainy)\n",
    "print(\"Accuracy of Random Forest:\",accuracy)"
   ]
  },
  {
   "cell_type": "code",
   "execution_count": 68,
   "metadata": {},
   "outputs": [
    {
     "name": "stdout",
     "output_type": "stream",
     "text": [
      "              precision    recall  f1-score   support\n",
      "\n",
      "           1       0.00      0.00      0.00      1492\n",
      "           2       0.00      0.00      0.00     18594\n",
      "           3       0.85      1.00      0.92    110485\n",
      "\n",
      "    accuracy                           0.85    130571\n",
      "   macro avg       0.28      0.33      0.31    130571\n",
      "weighted avg       0.72      0.85      0.78    130571\n",
      "\n"
     ]
    }
   ],
   "source": [
    "from sklearn.metrics import classification_report\n",
    "print(classification_report(testy,y_pred, labels=[1,2,3]))"
   ]
  },
  {
   "cell_type": "code",
   "execution_count": 69,
   "metadata": {},
   "outputs": [
    {
     "data": {
      "image/png": "[encoded data removed]",
      "text/plain": [
       "<Figure size 720x432 with 2 Axes>"
      ]
     },
     "metadata": {
      "needs_background": "light"
     },
     "output_type": "display_data"
    }
   ],
   "source": [
    "import seaborn as sns\n",
    "plt.figure(figsize=(10,6))\n",
    "fx=sns.heatmap(confusion_matrix(testy,y_pred), annot=True, fmt=\".2f\",cmap=\"GnBu\")\n",
    "fx.set_title('Confusion Matrix \\n');\n",
    "fx.set_xlabel('\\n Predicted Values\\n')\n",
    "fx.set_ylabel('Actual Values\\n');\n",
    "fx.xaxis.set_ticklabels(['1','2','3'])\n",
    "fx.yaxis.set_ticklabels(['1','2','3'])\n",
    "plt.show()"
   ]
  },
  {
   "attachments": {},
   "cell_type": "markdown",
   "metadata": {},
   "source": [
    "### Decision Tree Classifier"
   ]
  },
  {
   "cell_type": "code",
   "execution_count": 70,
   "metadata": {},
   "outputs": [],
   "source": [
    "DT = DecisionTreeClassifier(max_depth=200)\n",
    "DT.fit(trainX,trainy)\n",
    "y_pred = DT.predict(testX) "
   ]
  },
  {
   "cell_type": "code",
   "execution_count": 71,
   "metadata": {},
   "outputs": [],
   "source": [
    "y_pred_proba = DT.predict_proba(testX)"
   ]
  },
  {
   "cell_type": "code",
   "execution_count": 72,
   "metadata": {},
   "outputs": [
    {
     "name": "stdout",
     "output_type": "stream",
     "text": [
      "ROC Score : 0.5832909371444646\n",
      "Accuracy of Decision Tree: 0.9999343541266638\n",
      "              precision    recall  f1-score   support\n",
      "\n",
      "           1       0.13      0.15      0.14      1492\n",
      "           2       0.28      0.30      0.29     18594\n",
      "           3       0.88      0.86      0.87    110485\n",
      "\n",
      "    accuracy                           0.77    130571\n",
      "   macro avg       0.43      0.44      0.43    130571\n",
      "weighted avg       0.78      0.77      0.78    130571\n",
      "\n"
     ]
    }
   ],
   "source": [
    "print(\"ROC Score :\" , roc_auc_score(testy,y_pred_proba,multi_class=\"ovr\"))\n",
    "accuracy = DT.score(trainX, trainy)\n",
    "print(\"Accuracy of Decision Tree:\",accuracy)\n",
    "print(classification_report(testy,y_pred, labels=[1,2,3]))"
   ]
  },
  {
   "cell_type": "code",
   "execution_count": 73,
   "metadata": {},
   "outputs": [
    {
     "data": {
      "image/png": "[encoded data removed]",
      "text/plain": [
       "<Figure size 720x432 with 2 Axes>"
      ]
     },
     "metadata": {
      "needs_background": "light"
     },
     "output_type": "display_data"
    }
   ],
   "source": [
    "import seaborn as sns\n",
    "plt.figure(figsize=(10,6))\n",
    "fx=sns.heatmap(confusion_matrix(testy,y_pred), annot=True, fmt=\".2f\",cmap=\"GnBu\")\n",
    "fx.set_title('Confusion Matrix \\n');\n",
    "fx.set_xlabel('\\n Predicted Values\\n')\n",
    "fx.set_ylabel('Actual Values\\n');\n",
    "fx.xaxis.set_ticklabels(['1','2','3'])\n",
    "fx.yaxis.set_ticklabels(['1','2','3'])\n",
    "plt.show()"
   ]
  },
  {
   "attachments": {},
   "cell_type": "markdown",
   "metadata": {},
   "source": [
    "### Logistic Regression"
   ]
  },
  {
   "cell_type": "code",
   "execution_count": 74,
   "metadata": {},
   "outputs": [],
   "source": [
    "from sklearn.linear_model import LogisticRegression \n",
    "lr = LogisticRegression(solver = 'liblinear')\n",
    "lr.fit(trainX,trainy.values.ravel())\n",
    "y_pred = lr.predict(testX)\n",
    "y_pred_proba = lr.predict_proba(testX)"
   ]
  },
  {
   "cell_type": "code",
   "execution_count": 75,
   "metadata": {},
   "outputs": [
    {
     "name": "stdout",
     "output_type": "stream",
     "text": [
      "ROC Score : 0.5632775790906478\n",
      "Accuracy of Logistic Regression: 0.8469597754911132\n",
      "              precision    recall  f1-score   support\n",
      "\n",
      "           1       0.00      0.00      0.00      1492\n",
      "           2       0.00      0.00      0.00     18594\n",
      "           3       0.85      1.00      0.92    110485\n",
      "\n",
      "    accuracy                           0.85    130571\n",
      "   macro avg       0.28      0.33      0.31    130571\n",
      "weighted avg       0.72      0.85      0.78    130571\n",
      "\n"
     ]
    }
   ],
   "source": [
    "print(\"ROC Score :\" , roc_auc_score(testy,y_pred_proba,multi_class=\"ovr\"))\n",
    "accuracy = lr.score(trainX, trainy)\n",
    "print(\"Accuracy of Logistic Regression:\",accuracy)\n",
    "print(classification_report(testy,y_pred, labels=[1,2,3]))"
   ]
  },
  {
   "cell_type": "code",
   "execution_count": 76,
   "metadata": {},
   "outputs": [
    {
     "data": {
      "image/png": "[encoded data removed]",
      "text/plain": [
       "<Figure size 720x432 with 2 Axes>"
      ]
     },
     "metadata": {
      "needs_background": "light"
     },
     "output_type": "display_data"
    }
   ],
   "source": [
    "import seaborn as sns\n",
    "plt.figure(figsize=(10,6))\n",
    "fx=sns.heatmap(confusion_matrix(testy,y_pred), annot=True, fmt=\".2f\",cmap=\"GnBu\")\n",
    "fx.set_title('Confusion Matrix \\n');\n",
    "fx.set_xlabel('\\n Predicted Values\\n')\n",
    "fx.set_ylabel('Actual Values\\n');\n",
    "fx.xaxis.set_ticklabels(['1','2','3'])\n",
    "fx.yaxis.set_ticklabels(['1','2','3'])\n",
    "plt.show()"
   ]
  }
 ],
 "metadata": {
  "kernelspec": {
   "display_name": "Python 3.9.7 64-bit",
   "language": "python",
   "name": "python3"
  },
  "language_info": {
   "codemirror_mode": {
    "name": "ipython",
    "version": 3
   },
   "file_extension": ".py",
   "mimetype": "text/x-python",
   "name": "python",
   "nbconvert_exporter": "python",
   "pygments_lexer": "ipython3",
   "version": "3.9.7"
  },
  "orig_nbformat": 4,
  "vscode": {
   "interpreter": {
    "hash": "95f57ecaf1e4684a97728584cbdcdcfb0a14de4fde6afb1e55592db96a99a5c0"
   }
  }
 },
 "nbformat": 4,
 "nbformat_minor": 2
}
